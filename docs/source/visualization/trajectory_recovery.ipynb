{
 "cells": [
  {
   "cell_type": "markdown",
   "metadata": {},
   "source": [
    "## Visualization of Trajectory Recovery\n",
    "\n",
    "In this tutorial, we show the process of visualizing trajectory recovery tasks using pretrained models.\n",
    "\n",
    "### Step 1: Import necessary packages."
   ]
  },
  {
   "cell_type": "code",
   "execution_count": 1,
   "metadata": {},
   "outputs": [],
   "source": [
    "from IPython.display import IFrame\n",
    "import numpy as np\n",
    "from huggingdragon.visualizer import TrajRecVisualizer"
   ]
  },
  {
   "cell_type": "markdown",
   "metadata": {},
   "source": [
    "\n",
    "### Step 2: Load pretrained model.\n",
    "\n",
    "In this step, we will first download the checkpoint from Google Drive. Next, the configuration file will be loaded, and the runtime parameters will be obtained from the YAML config."
   ]
  },
  {
   "cell_type": "code",
   "execution_count": 2,
   "metadata": {},
   "outputs": [
    {
     "name": "stdout",
     "output_type": "stream",
     "text": [
      "Checkpoint saved!\n"
     ]
    },
    {
     "data": {
      "text/plain": [
       "MTrajRec(\n",
       "  (encoder): Encoder(\n",
       "    (pred_out): Linear(in_features=128, out_features=1, bias=True)\n",
       "    (network): GRU(3, 128)\n",
       "    (extra): ExtraMLP(\n",
       "      (fc_out): Linear(in_features=25, out_features=8, bias=True)\n",
       "    )\n",
       "    (fc_hid): Linear(in_features=136, out_features=128, bias=True)\n",
       "  )\n",
       "  (decoder): DecoderMulti(\n",
       "    (emb_id): Embedding(12614, 128)\n",
       "    (tandem_fc): Sequential(\n",
       "      (0): Linear(in_features=256, out_features=128, bias=True)\n",
       "      (1): ReLU()\n",
       "    )\n",
       "    (attn): Attention(\n",
       "      (attn): Linear(in_features=256, out_features=128, bias=True)\n",
       "      (v): Linear(in_features=128, out_features=1, bias=False)\n",
       "    )\n",
       "    (rnn): GRU(257, 128)\n",
       "    (fc_id_out): Linear(in_features=128, out_features=12614, bias=True)\n",
       "    (fc_rate_out): Linear(in_features=128, out_features=1, bias=True)\n",
       "    (dropout): Dropout(p=0.1, inplace=False)\n",
       "  )\n",
       ")"
      ]
     },
     "execution_count": 2,
     "metadata": {},
     "output_type": "execute_result"
    }
   ],
   "source": [
    "model = TrajRecVisualizer.from_pretrained('MTrajRec_Porto')\n",
    "model"
   ]
  },
  {
   "cell_type": "markdown",
   "metadata": {},
   "source": [
    "\n",
    "### Step 3: Obtain the outputs\n",
    "\n",
    "In this step, we first create a trajectory, and then forward it to the network to obtain the recovered trajectory."
   ]
  },
  {
   "cell_type": "code",
   "execution_count": 3,
   "metadata": {},
   "outputs": [],
   "source": [
    "traj = [\n",
    "    [1390819844, 41.16695400, -8.62677000],\n",
    "    [1390819964, 41.16691800, -8.62520400],\n",
    "    [1390820084, 41.16250800, -8.62479000],\n",
    "    [1390820204, 41.15583000, -8.62299900],\n",
    "    [1390820324, 41.15425500, -8.61359400],\n",
    "    [1390820444, 41.15027700, -8.61271200],\n",
    "    [1390820564, 41.14732500, -8.61568200],\n",
    "    [1390820684, 41.14723500, -8.61750000]\n",
    "]"
   ]
  },
  {
   "cell_type": "code",
   "execution_count": 4,
   "metadata": {},
   "outputs": [
    {
     "name": "stdout",
     "output_type": "stream",
     "text": [
      "Predict output generated!\n"
     ]
    }
   ],
   "source": [
    "outputs = TrajRecVisualizer.get_prediction('MTrajRec_Porto', traj, model, time_interval=15)"
   ]
  },
  {
   "cell_type": "markdown",
   "metadata": {},
   "source": [
    "\n",
    "### Step 4: Visualization\n",
    "\n",
    "We use `folium` package to visualize the input trajectory as well as the output trajectory. Orange stars represent the input trajectory, while the purple line is the output trajectory."
   ]
  },
  {
   "cell_type": "code",
   "execution_count": 5,
   "metadata": {},
   "outputs": [],
   "source": [
    "TrajRecVisualizer.get_visualization(np.array(traj)[:, 1:], outputs[1:], 'MTrajRec.html')"
   ]
  },
  {
   "cell_type": "code",
   "execution_count": 6,
   "metadata": {
    "scrolled": true,
    "pycharm": {
     "name": "#%%\n"
    }
   },
   "outputs": [
    {
     "data": {
      "text/html": [
       "<img src=\"https://yuqichen.surge.sh/image.png\" alt=\"Image\" width=\"600\">"
      ],
      "text/plain": [
       "<IPython.core.display.HTML object>"
      ]
     },
     "execution_count": 6,
     "metadata": {},
     "output_type": "execute_result"
    }
   ],
   "source": [
    "IFrame(src='MTrajRec.html', width=500, height=300)"
   ]
  }
 ],
 "metadata": {
  "kernelspec": {
   "display_name": "Python (py3.8)",
   "language": "python",
   "name": "py3.8"
  },
  "language_info": {
   "codemirror_mode": {
    "name": "ipython",
    "version": 3
   },
   "file_extension": ".py",
   "mimetype": "text/x-python",
   "name": "python",
   "nbconvert_exporter": "python",
   "pygments_lexer": "ipython3",
   "version": "3.8.17"
  }
 },
 "nbformat": 4,
 "nbformat_minor": 4
}